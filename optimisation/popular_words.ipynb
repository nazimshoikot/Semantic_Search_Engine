{
 "cells": [
  {
   "cell_type": "code",
   "execution_count": 13,
   "metadata": {},
   "outputs": [],
   "source": [
    "import collections\n",
    "import os\n",
    "from collections import Counter "
   ]
  },
  {
   "cell_type": "code",
   "execution_count": 15,
   "metadata": {},
   "outputs": [],
   "source": [
    "#stores all locations of text files \n",
    "directories = ['/Users/adyasingh/Desktop/Final dataset/images_text', \n",
    "               '/Users/adyasingh/Desktop/Final dataset/emails',\n",
    "               '/Users/adyasingh/Desktop/Final dataset/tech_reports_text', \n",
    "               '/Users/adyasingh/Desktop/Final dataset/separated_reports_text']\n",
    "\n",
    "#stores data from directories \n",
    "data = []"
   ]
  },
  {
   "cell_type": "code",
   "execution_count": 16,
   "metadata": {},
   "outputs": [],
   "source": [
    "#loop through directories\n",
    "for directory in directories: \n",
    "    #loop through files in a directory\n",
    "    for file in os.listdir(directory):\n",
    "        #open file in read mode \n",
    "        f = open(os.path.join(directory, file), \"r\", encoding=\"utf8\")\n",
    "        #read file content\n",
    "        fileContent = f.read()\n",
    "        #add content to data \n",
    "        data.append(fileContent)\n",
    "        #close file \n",
    "        f.close()"
   ]
  },
  {
   "cell_type": "code",
   "execution_count": 17,
   "metadata": {},
   "outputs": [],
   "source": [
    "#convert data to lower case string and split string by words \n",
    "data_str = ''.join(data)\n",
    "data_str = data_str.lower()\n",
    "split_it = data_str.split() "
   ]
  },
  {
   "cell_type": "code",
   "execution_count": 18,
   "metadata": {},
   "outputs": [],
   "source": [
    "# Pass the split_it list to instance of Counter class. \n",
    "Counter = Counter(split_it) "
   ]
  },
  {
   "cell_type": "code",
   "execution_count": 19,
   "metadata": {
    "scrolled": true
   },
   "outputs": [],
   "source": [
    "# most_common() produces k frequently encountered input values and their respective counts. \n",
    "most_occur = Counter.most_common(20000) "
   ]
  },
  {
   "cell_type": "code",
   "execution_count": 20,
   "metadata": {},
   "outputs": [],
   "source": [
    "#write popular words to text file\n",
    "popular_words = open(\"popular_words.txt\",\"w+\")\n",
    "for word in most_occur: \n",
    "    popular_words.write(word[0]+\"\\n\")\n",
    "popular_words.close()"
   ]
  },
  {
   "cell_type": "code",
   "execution_count": 22,
   "metadata": {},
   "outputs": [],
   "source": [
    "# Compare popular words vocabulary with ROBERTA vocabulary and remove any common words \n",
    "roberta_vocab = open('roberta_vocab.txt').readlines()\n",
    "with open('roberta_result.txt', 'w') as result:\n",
    "    for line in open('popular_words.txt'):\n",
    "        if line not in roberta_vocab and ('�' not in line) :\n",
    "            result.write(line)\n",
    "\n",
    "#close files            \n",
    "roberta_vocab.close()\n",
    "result.close()"
   ]
  },
  {
   "cell_type": "code",
   "execution_count": 23,
   "metadata": {
    "scrolled": true
   },
   "outputs": [],
   "source": [
    "# Compare popular words vocabulary with BERT vocabulary and remove any common words \n",
    "bert_vocab = open('bert_vocab.txt').readlines()\n",
    "with open('bert_result.txt', 'w') as result:\n",
    "    for line in open('popular_words.txt'):\n",
    "        if line not in bert_vocab and ('�' not in line) :\n",
    "            result.write(line)\n",
    "\n",
    "#close files            \n",
    "bert_vocab.close()\n",
    "result.close()"
   ]
  }
 ],
 "metadata": {
  "kernelspec": {
   "display_name": "Python 3",
   "language": "python",
   "name": "python3"
  },
  "language_info": {
   "codemirror_mode": {
    "name": "ipython",
    "version": 3
   },
   "file_extension": ".py",
   "mimetype": "text/x-python",
   "name": "python",
   "nbconvert_exporter": "python",
   "pygments_lexer": "ipython3",
   "version": "3.9.4"
  }
 },
 "nbformat": 4,
 "nbformat_minor": 4
}
